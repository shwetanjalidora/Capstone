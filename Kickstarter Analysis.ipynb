{
 "cells": [
  {
   "cell_type": "markdown",
   "metadata": {},
   "source": [
    "## Research Question: Predicting whether a currently \"Live\" will Succeed or Fail based on the projects which were previously \"Successful\" or \"Failure\n"
   ]
  },
  {
   "cell_type": "markdown",
   "metadata": {},
   "source": [
    "\n",
    "### Description of the data set:\n",
    "\n",
    "###   In this project, the data set used is the Kickstarter data set,extracted from Kaggel website. Kickstarter is a funding platform for creative projects. Everything on kickstarter is a project. A project is a work with a clear goal that the creator wants to bring into life. Lets take a look at the attributes of the kickstarter data set.\n",
    "\n",
    "\n",
    "  * **ID** :  It is the internal kickstarter id given to a project\n",
    "  * **name** :  It is the name of the project\n",
    "  * **Main category**:  Every project is put into a category\n",
    "  * **Currency**:  The currency used to support the project\n",
    "  * **category**:  Every project is further divided into sub categories\n",
    "  * **deadline**:  It is the deadline for crowdfunding \n",
    "  * **goal**:  The funding goal is the amount of money that a creator needs to complete their project\n",
    "  * **launched**:  The date when the project is launched\n",
    "  * **pledged**:  It is the amount pledged by \"crowd\"\n",
    "  * **state**:  Current condition of the project\n",
    "  * **backers**:  number of backers ie., the crowd who is actually funding a project\n",
    "  * **country**:  The country from where a pledge has been done\n",
    "  * **usd pledged**:  amount of money pledged for a project in USD"
   ]
  },
  {
   "cell_type": "markdown",
   "metadata": {},
   "source": [
    "## Data Extraction"
   ]
  },
  {
   "cell_type": "code",
   "execution_count": 1,
   "metadata": {},
   "outputs": [
    {
     "data": {
      "text/html": [
       "<div>\n",
       "<style scoped>\n",
       "    .dataframe tbody tr th:only-of-type {\n",
       "        vertical-align: middle;\n",
       "    }\n",
       "\n",
       "    .dataframe tbody tr th {\n",
       "        vertical-align: top;\n",
       "    }\n",
       "\n",
       "    .dataframe thead th {\n",
       "        text-align: right;\n",
       "    }\n",
       "</style>\n",
       "<table border=\"1\" class=\"dataframe\">\n",
       "  <thead>\n",
       "    <tr style=\"text-align: right;\">\n",
       "      <th></th>\n",
       "      <th>ID</th>\n",
       "      <th>name</th>\n",
       "      <th>category</th>\n",
       "      <th>main_category</th>\n",
       "      <th>currency</th>\n",
       "      <th>deadline</th>\n",
       "      <th>goal</th>\n",
       "      <th>launched</th>\n",
       "      <th>pledged</th>\n",
       "      <th>state</th>\n",
       "      <th>backers</th>\n",
       "      <th>country</th>\n",
       "      <th>usd pledged</th>\n",
       "    </tr>\n",
       "  </thead>\n",
       "  <tbody>\n",
       "    <tr>\n",
       "      <th>0</th>\n",
       "      <td>1000002330</td>\n",
       "      <td>The Songs of Adelaide &amp; Abullah</td>\n",
       "      <td>Poetry</td>\n",
       "      <td>Publishing</td>\n",
       "      <td>GBP</td>\n",
       "      <td>2015-10-09</td>\n",
       "      <td>1000.0</td>\n",
       "      <td>2015-08-11 12:12:28</td>\n",
       "      <td>0.0</td>\n",
       "      <td>failed</td>\n",
       "      <td>0</td>\n",
       "      <td>GB</td>\n",
       "      <td>0.0</td>\n",
       "    </tr>\n",
       "    <tr>\n",
       "      <th>1</th>\n",
       "      <td>1000003930</td>\n",
       "      <td>Greeting From Earth: ZGAC Arts Capsule For ET</td>\n",
       "      <td>Narrative Film</td>\n",
       "      <td>Film &amp; Video</td>\n",
       "      <td>USD</td>\n",
       "      <td>2017-11-01</td>\n",
       "      <td>30000.0</td>\n",
       "      <td>2017-09-02 04:43:57</td>\n",
       "      <td>2421.0</td>\n",
       "      <td>failed</td>\n",
       "      <td>15</td>\n",
       "      <td>US</td>\n",
       "      <td>100.0</td>\n",
       "    </tr>\n",
       "    <tr>\n",
       "      <th>2</th>\n",
       "      <td>1000004038</td>\n",
       "      <td>Where is Hank?</td>\n",
       "      <td>Narrative Film</td>\n",
       "      <td>Film &amp; Video</td>\n",
       "      <td>USD</td>\n",
       "      <td>2013-02-26</td>\n",
       "      <td>45000.0</td>\n",
       "      <td>2013-01-12 00:20:50</td>\n",
       "      <td>220.0</td>\n",
       "      <td>failed</td>\n",
       "      <td>3</td>\n",
       "      <td>US</td>\n",
       "      <td>220.0</td>\n",
       "    </tr>\n",
       "    <tr>\n",
       "      <th>3</th>\n",
       "      <td>1000007540</td>\n",
       "      <td>ToshiCapital Rekordz Needs Help to Complete Album</td>\n",
       "      <td>Music</td>\n",
       "      <td>Music</td>\n",
       "      <td>USD</td>\n",
       "      <td>2012-04-16</td>\n",
       "      <td>5000.0</td>\n",
       "      <td>2012-03-17 03:24:11</td>\n",
       "      <td>1.0</td>\n",
       "      <td>failed</td>\n",
       "      <td>1</td>\n",
       "      <td>US</td>\n",
       "      <td>1.0</td>\n",
       "    </tr>\n",
       "    <tr>\n",
       "      <th>4</th>\n",
       "      <td>1000011046</td>\n",
       "      <td>Community Film Project: The Art of Neighborhoo...</td>\n",
       "      <td>Film &amp; Video</td>\n",
       "      <td>Film &amp; Video</td>\n",
       "      <td>USD</td>\n",
       "      <td>2015-08-29</td>\n",
       "      <td>19500.0</td>\n",
       "      <td>2015-07-04 08:35:03</td>\n",
       "      <td>1283.0</td>\n",
       "      <td>canceled</td>\n",
       "      <td>14</td>\n",
       "      <td>US</td>\n",
       "      <td>1283.0</td>\n",
       "    </tr>\n",
       "  </tbody>\n",
       "</table>\n",
       "</div>"
      ],
      "text/plain": [
       "           ID                                               name  \\\n",
       "0  1000002330                    The Songs of Adelaide & Abullah   \n",
       "1  1000003930      Greeting From Earth: ZGAC Arts Capsule For ET   \n",
       "2  1000004038                                     Where is Hank?   \n",
       "3  1000007540  ToshiCapital Rekordz Needs Help to Complete Album   \n",
       "4  1000011046  Community Film Project: The Art of Neighborhoo...   \n",
       "\n",
       "         category main_category currency    deadline     goal  \\\n",
       "0          Poetry    Publishing      GBP  2015-10-09   1000.0   \n",
       "1  Narrative Film  Film & Video      USD  2017-11-01  30000.0   \n",
       "2  Narrative Film  Film & Video      USD  2013-02-26  45000.0   \n",
       "3           Music         Music      USD  2012-04-16   5000.0   \n",
       "4    Film & Video  Film & Video      USD  2015-08-29  19500.0   \n",
       "\n",
       "              launched  pledged     state  backers country  usd pledged  \n",
       "0  2015-08-11 12:12:28      0.0    failed        0      GB          0.0  \n",
       "1  2017-09-02 04:43:57   2421.0    failed       15      US        100.0  \n",
       "2  2013-01-12 00:20:50    220.0    failed        3      US        220.0  \n",
       "3  2012-03-17 03:24:11      1.0    failed        1      US          1.0  \n",
       "4  2015-07-04 08:35:03   1283.0  canceled       14      US       1283.0  "
      ]
     },
     "execution_count": 1,
     "metadata": {},
     "output_type": "execute_result"
    }
   ],
   "source": [
    "#data extraction\n",
    "\n",
    "\n",
    "#importing required libraries\n",
    "import pandas as pd\n",
    "import numpy as np\n",
    "import matplotlib.pyplot as plt\n",
    "import seaborn as sns\n",
    "import math \n",
    "\n",
    "\n",
    "\n",
    "#read kickstarter.csv file\n",
    "kickstarter_data=pd.read_csv('kickstarter.csv',delimiter=',')\n",
    "\n",
    "#converting into a dataframe\n",
    "kickstarter_df=pd.DataFrame(kickstarter_data)\n",
    "\n",
    "#print head of the data frame\n",
    "kickstarter_df.head(5)\n",
    "\n"
   ]
  },
  {
   "cell_type": "markdown",
   "metadata": {},
   "source": [
    "### Link which directs to kaggle website where the data set has been extracted from"
   ]
  },
  {
   "cell_type": "code",
   "execution_count": null,
   "metadata": {},
   "outputs": [],
   "source": [
    "#link which directs to kaggle website where the data set has been extracted from\n",
    "import webbrowser\n",
    "webbrowser.open(\"https://www.kaggle.com/kemical/kickstarter-projects\")"
   ]
  },
  {
   "cell_type": "markdown",
   "metadata": {},
   "source": [
    "## Data Cleaning and Data Manipulation:\n",
    "\n",
    "* The initial step of any project is to clean the data set. Firstly,the column names have been changed for better understanding of the data set. "
   ]
  },
  {
   "cell_type": "code",
   "execution_count": 2,
   "metadata": {},
   "outputs": [
    {
     "data": {
      "text/html": [
       "<div>\n",
       "<style scoped>\n",
       "    .dataframe tbody tr th:only-of-type {\n",
       "        vertical-align: middle;\n",
       "    }\n",
       "\n",
       "    .dataframe tbody tr th {\n",
       "        vertical-align: top;\n",
       "    }\n",
       "\n",
       "    .dataframe thead th {\n",
       "        text-align: right;\n",
       "    }\n",
       "</style>\n",
       "<table border=\"1\" class=\"dataframe\">\n",
       "  <thead>\n",
       "    <tr style=\"text-align: right;\">\n",
       "      <th></th>\n",
       "      <th>id</th>\n",
       "      <th>name</th>\n",
       "      <th>sub_category</th>\n",
       "      <th>main_category</th>\n",
       "      <th>currency</th>\n",
       "      <th>fund_deadline</th>\n",
       "      <th>goal_amount</th>\n",
       "      <th>project_launch</th>\n",
       "      <th>pledged_amount</th>\n",
       "      <th>project_state</th>\n",
       "      <th>backers</th>\n",
       "      <th>country</th>\n",
       "      <th>usd_pledged_amount</th>\n",
       "    </tr>\n",
       "  </thead>\n",
       "  <tbody>\n",
       "    <tr>\n",
       "      <th>0</th>\n",
       "      <td>1000002330</td>\n",
       "      <td>The Songs of Adelaide &amp; Abullah</td>\n",
       "      <td>Poetry</td>\n",
       "      <td>Publishing</td>\n",
       "      <td>GBP</td>\n",
       "      <td>2015-10-09</td>\n",
       "      <td>1000.0</td>\n",
       "      <td>2015-08-11 12:12:28</td>\n",
       "      <td>0.0</td>\n",
       "      <td>failed</td>\n",
       "      <td>0</td>\n",
       "      <td>GB</td>\n",
       "      <td>0.0</td>\n",
       "    </tr>\n",
       "    <tr>\n",
       "      <th>1</th>\n",
       "      <td>1000003930</td>\n",
       "      <td>Greeting From Earth: ZGAC Arts Capsule For ET</td>\n",
       "      <td>Narrative Film</td>\n",
       "      <td>Film &amp; Video</td>\n",
       "      <td>USD</td>\n",
       "      <td>2017-11-01</td>\n",
       "      <td>30000.0</td>\n",
       "      <td>2017-09-02 04:43:57</td>\n",
       "      <td>2421.0</td>\n",
       "      <td>failed</td>\n",
       "      <td>15</td>\n",
       "      <td>US</td>\n",
       "      <td>100.0</td>\n",
       "    </tr>\n",
       "    <tr>\n",
       "      <th>2</th>\n",
       "      <td>1000004038</td>\n",
       "      <td>Where is Hank?</td>\n",
       "      <td>Narrative Film</td>\n",
       "      <td>Film &amp; Video</td>\n",
       "      <td>USD</td>\n",
       "      <td>2013-02-26</td>\n",
       "      <td>45000.0</td>\n",
       "      <td>2013-01-12 00:20:50</td>\n",
       "      <td>220.0</td>\n",
       "      <td>failed</td>\n",
       "      <td>3</td>\n",
       "      <td>US</td>\n",
       "      <td>220.0</td>\n",
       "    </tr>\n",
       "    <tr>\n",
       "      <th>3</th>\n",
       "      <td>1000007540</td>\n",
       "      <td>ToshiCapital Rekordz Needs Help to Complete Album</td>\n",
       "      <td>Music</td>\n",
       "      <td>Music</td>\n",
       "      <td>USD</td>\n",
       "      <td>2012-04-16</td>\n",
       "      <td>5000.0</td>\n",
       "      <td>2012-03-17 03:24:11</td>\n",
       "      <td>1.0</td>\n",
       "      <td>failed</td>\n",
       "      <td>1</td>\n",
       "      <td>US</td>\n",
       "      <td>1.0</td>\n",
       "    </tr>\n",
       "    <tr>\n",
       "      <th>4</th>\n",
       "      <td>1000011046</td>\n",
       "      <td>Community Film Project: The Art of Neighborhoo...</td>\n",
       "      <td>Film &amp; Video</td>\n",
       "      <td>Film &amp; Video</td>\n",
       "      <td>USD</td>\n",
       "      <td>2015-08-29</td>\n",
       "      <td>19500.0</td>\n",
       "      <td>2015-07-04 08:35:03</td>\n",
       "      <td>1283.0</td>\n",
       "      <td>canceled</td>\n",
       "      <td>14</td>\n",
       "      <td>US</td>\n",
       "      <td>1283.0</td>\n",
       "    </tr>\n",
       "  </tbody>\n",
       "</table>\n",
       "</div>"
      ],
      "text/plain": [
       "           id                                               name  \\\n",
       "0  1000002330                    The Songs of Adelaide & Abullah   \n",
       "1  1000003930      Greeting From Earth: ZGAC Arts Capsule For ET   \n",
       "2  1000004038                                     Where is Hank?   \n",
       "3  1000007540  ToshiCapital Rekordz Needs Help to Complete Album   \n",
       "4  1000011046  Community Film Project: The Art of Neighborhoo...   \n",
       "\n",
       "     sub_category main_category currency fund_deadline  goal_amount  \\\n",
       "0          Poetry    Publishing      GBP    2015-10-09       1000.0   \n",
       "1  Narrative Film  Film & Video      USD    2017-11-01      30000.0   \n",
       "2  Narrative Film  Film & Video      USD    2013-02-26      45000.0   \n",
       "3           Music         Music      USD    2012-04-16       5000.0   \n",
       "4    Film & Video  Film & Video      USD    2015-08-29      19500.0   \n",
       "\n",
       "        project_launch  pledged_amount project_state  backers country  \\\n",
       "0  2015-08-11 12:12:28             0.0        failed        0      GB   \n",
       "1  2017-09-02 04:43:57          2421.0        failed       15      US   \n",
       "2  2013-01-12 00:20:50           220.0        failed        3      US   \n",
       "3  2012-03-17 03:24:11             1.0        failed        1      US   \n",
       "4  2015-07-04 08:35:03          1283.0      canceled       14      US   \n",
       "\n",
       "   usd_pledged_amount  \n",
       "0                 0.0  \n",
       "1               100.0  \n",
       "2               220.0  \n",
       "3                 1.0  \n",
       "4              1283.0  "
      ]
     },
     "execution_count": 2,
     "metadata": {},
     "output_type": "execute_result"
    }
   ],
   "source": [
    "#data cleaning\n",
    "\n",
    "#rename column names\n",
    "kickstarter_df_renamed= kickstarter_df.rename(columns={'ID':'id',\n",
    "                               'name':'name',\n",
    "                               'category':'sub_category',\n",
    "                               'main_category':'main_category',\n",
    "                               'currency':'currency',\n",
    "                               'deadline':'fund_deadline',\n",
    "                               'goal':'goal_amount',\n",
    "                               'launched':'project_launch',\n",
    "                               'pledged':'pledged_amount',\n",
    "                               'state':'project_state',\n",
    "                               'backers':'backers',\n",
    "                               'country':'country',\n",
    "                               'usd pledged':'usd_pledged_amount'})\n",
    "\n",
    "kickstarter_df_renamed.head(5)"
   ]
  },
  {
   "cell_type": "markdown",
   "metadata": {},
   "source": [
    "* Here, the project launch attribute has been split into two different columns called project_launch_date and project_launch_time. Then the original project_launch column has been dropped. Also, the project launch_date attribute has been split into a different columns called project_launch_year"
   ]
  },
  {
   "cell_type": "code",
   "execution_count": 3,
   "metadata": {},
   "outputs": [
    {
     "data": {
      "text/html": [
       "<div>\n",
       "<style scoped>\n",
       "    .dataframe tbody tr th:only-of-type {\n",
       "        vertical-align: middle;\n",
       "    }\n",
       "\n",
       "    .dataframe tbody tr th {\n",
       "        vertical-align: top;\n",
       "    }\n",
       "\n",
       "    .dataframe thead th {\n",
       "        text-align: right;\n",
       "    }\n",
       "</style>\n",
       "<table border=\"1\" class=\"dataframe\">\n",
       "  <thead>\n",
       "    <tr style=\"text-align: right;\">\n",
       "      <th></th>\n",
       "      <th>id</th>\n",
       "      <th>name</th>\n",
       "      <th>sub_category</th>\n",
       "      <th>main_category</th>\n",
       "      <th>currency</th>\n",
       "      <th>fund_deadline</th>\n",
       "      <th>goal_amount</th>\n",
       "      <th>pledged_amount</th>\n",
       "      <th>project_state</th>\n",
       "      <th>backers</th>\n",
       "      <th>country</th>\n",
       "      <th>usd_pledged_amount</th>\n",
       "      <th>project_launch_date</th>\n",
       "      <th>project_launch_time</th>\n",
       "      <th>project_launch_year</th>\n",
       "    </tr>\n",
       "  </thead>\n",
       "  <tbody>\n",
       "    <tr>\n",
       "      <th>0</th>\n",
       "      <td>1000002330</td>\n",
       "      <td>The Songs of Adelaide &amp; Abullah</td>\n",
       "      <td>Poetry</td>\n",
       "      <td>Publishing</td>\n",
       "      <td>GBP</td>\n",
       "      <td>2015-10-09</td>\n",
       "      <td>1000.0</td>\n",
       "      <td>0.0</td>\n",
       "      <td>failed</td>\n",
       "      <td>0</td>\n",
       "      <td>GB</td>\n",
       "      <td>0.0</td>\n",
       "      <td>2015-08-11</td>\n",
       "      <td>12:12:28</td>\n",
       "      <td>2015</td>\n",
       "    </tr>\n",
       "    <tr>\n",
       "      <th>1</th>\n",
       "      <td>1000003930</td>\n",
       "      <td>Greeting From Earth: ZGAC Arts Capsule For ET</td>\n",
       "      <td>Narrative Film</td>\n",
       "      <td>Film &amp; Video</td>\n",
       "      <td>USD</td>\n",
       "      <td>2017-11-01</td>\n",
       "      <td>30000.0</td>\n",
       "      <td>2421.0</td>\n",
       "      <td>failed</td>\n",
       "      <td>15</td>\n",
       "      <td>US</td>\n",
       "      <td>100.0</td>\n",
       "      <td>2017-09-02</td>\n",
       "      <td>04:43:57</td>\n",
       "      <td>2017</td>\n",
       "    </tr>\n",
       "    <tr>\n",
       "      <th>2</th>\n",
       "      <td>1000004038</td>\n",
       "      <td>Where is Hank?</td>\n",
       "      <td>Narrative Film</td>\n",
       "      <td>Film &amp; Video</td>\n",
       "      <td>USD</td>\n",
       "      <td>2013-02-26</td>\n",
       "      <td>45000.0</td>\n",
       "      <td>220.0</td>\n",
       "      <td>failed</td>\n",
       "      <td>3</td>\n",
       "      <td>US</td>\n",
       "      <td>220.0</td>\n",
       "      <td>2013-01-12</td>\n",
       "      <td>00:20:50</td>\n",
       "      <td>2013</td>\n",
       "    </tr>\n",
       "    <tr>\n",
       "      <th>3</th>\n",
       "      <td>1000007540</td>\n",
       "      <td>ToshiCapital Rekordz Needs Help to Complete Album</td>\n",
       "      <td>Music</td>\n",
       "      <td>Music</td>\n",
       "      <td>USD</td>\n",
       "      <td>2012-04-16</td>\n",
       "      <td>5000.0</td>\n",
       "      <td>1.0</td>\n",
       "      <td>failed</td>\n",
       "      <td>1</td>\n",
       "      <td>US</td>\n",
       "      <td>1.0</td>\n",
       "      <td>2012-03-17</td>\n",
       "      <td>03:24:11</td>\n",
       "      <td>2012</td>\n",
       "    </tr>\n",
       "    <tr>\n",
       "      <th>4</th>\n",
       "      <td>1000011046</td>\n",
       "      <td>Community Film Project: The Art of Neighborhoo...</td>\n",
       "      <td>Film &amp; Video</td>\n",
       "      <td>Film &amp; Video</td>\n",
       "      <td>USD</td>\n",
       "      <td>2015-08-29</td>\n",
       "      <td>19500.0</td>\n",
       "      <td>1283.0</td>\n",
       "      <td>canceled</td>\n",
       "      <td>14</td>\n",
       "      <td>US</td>\n",
       "      <td>1283.0</td>\n",
       "      <td>2015-07-04</td>\n",
       "      <td>08:35:03</td>\n",
       "      <td>2015</td>\n",
       "    </tr>\n",
       "  </tbody>\n",
       "</table>\n",
       "</div>"
      ],
      "text/plain": [
       "           id                                               name  \\\n",
       "0  1000002330                    The Songs of Adelaide & Abullah   \n",
       "1  1000003930      Greeting From Earth: ZGAC Arts Capsule For ET   \n",
       "2  1000004038                                     Where is Hank?   \n",
       "3  1000007540  ToshiCapital Rekordz Needs Help to Complete Album   \n",
       "4  1000011046  Community Film Project: The Art of Neighborhoo...   \n",
       "\n",
       "     sub_category main_category currency fund_deadline  goal_amount  \\\n",
       "0          Poetry    Publishing      GBP    2015-10-09       1000.0   \n",
       "1  Narrative Film  Film & Video      USD    2017-11-01      30000.0   \n",
       "2  Narrative Film  Film & Video      USD    2013-02-26      45000.0   \n",
       "3           Music         Music      USD    2012-04-16       5000.0   \n",
       "4    Film & Video  Film & Video      USD    2015-08-29      19500.0   \n",
       "\n",
       "   pledged_amount project_state  backers country  usd_pledged_amount  \\\n",
       "0             0.0        failed        0      GB                 0.0   \n",
       "1          2421.0        failed       15      US               100.0   \n",
       "2           220.0        failed        3      US               220.0   \n",
       "3             1.0        failed        1      US                 1.0   \n",
       "4          1283.0      canceled       14      US              1283.0   \n",
       "\n",
       "  project_launch_date project_launch_time project_launch_year  \n",
       "0          2015-08-11            12:12:28                2015  \n",
       "1          2017-09-02            04:43:57                2017  \n",
       "2          2013-01-12            00:20:50                2013  \n",
       "3          2012-03-17            03:24:11                2012  \n",
       "4          2015-07-04            08:35:03                2015  "
      ]
     },
     "execution_count": 3,
     "metadata": {},
     "output_type": "execute_result"
    }
   ],
   "source": [
    "#splitting the project_launch column into two columns(project_launch_date and project_launch_time)\n",
    "new= kickstarter_df_renamed[\"project_launch\"].str.split(\" \", n=1,expand = True) \n",
    "new.head()\n",
    "\n",
    "#adding the two new columns(project_launch_date and project_launch_time) into the main data frame(kickstarter_df_renamed) and dropping the project_launch column \n",
    "kickstarter_df_renamed[\"project_launch_date\"]=new[0]\n",
    "kickstarter_df_renamed[\"project_launch_time\"]=new[1]\n",
    "kickstarter_df_renamed.drop(columns=[\"project_launch\"],inplace=True)\n",
    "\n",
    "#print the kickstarter data frame to see the modifications\n",
    "kickstarter_df_renamed.head()\n",
    "\n",
    "#splitting the project_launch_date column into another columns(project_launch_year)\n",
    "new1= kickstarter_df_renamed[\"project_launch_date\"].str.split(\"-\", n=1,expand = True) \n",
    "new1.head()                           \n",
    "\n",
    "#adding a new columns(project_launch_year) into the main data frame(kickstarter_df_renamed) \n",
    "kickstarter_df_renamed[\"project_launch_year\"]=new1[0]\n",
    "kickstarter_df_renamed.head()"
   ]
  },
  {
   "cell_type": "markdown",
   "metadata": {},
   "source": [
    "#### Structure of the data set\n",
    " *  The columns property is usually used to get the column names of the data frame. "
   ]
  },
  {
   "cell_type": "code",
   "execution_count": 4,
   "metadata": {},
   "outputs": [
    {
     "name": "stdout",
     "output_type": "stream",
     "text": [
      "Index(['id', 'name', 'sub_category', 'main_category', 'currency',\n",
      "       'fund_deadline', 'goal_amount', 'pledged_amount', 'project_state',\n",
      "       'backers', 'country', 'usd_pledged_amount', 'project_launch_date',\n",
      "       'project_launch_time', 'project_launch_year'],\n",
      "      dtype='object')\n"
     ]
    }
   ],
   "source": [
    "#structure of the data set\n",
    "\n",
    "\n",
    "# print column names\n",
    "print(kickstarter_df_renamed.columns)"
   ]
  },
  {
   "cell_type": "markdown",
   "metadata": {},
   "source": [
    "* The **shape** property is usually used to get the current shape of an array or data frame. In the data set which I selected, there are 65499 rows and 15 columns"
   ]
  },
  {
   "cell_type": "code",
   "execution_count": 5,
   "metadata": {},
   "outputs": [
    {
     "name": "stdout",
     "output_type": "stream",
     "text": [
      "(65499, 15)\n"
     ]
    }
   ],
   "source": [
    "#number of rows and columns\n",
    "print(kickstarter_df_renamed.shape)"
   ]
  },
  {
   "cell_type": "markdown",
   "metadata": {},
   "source": [
    "* The **dtypes** returns a Series with the data type of each column. \n",
    "* Here as we can observe,the dtype has resulted with a Series of data types for each column."
   ]
  },
  {
   "cell_type": "code",
   "execution_count": 6,
   "metadata": {},
   "outputs": [
    {
     "data": {
      "text/plain": [
       "id                       int64\n",
       "name                    object\n",
       "sub_category            object\n",
       "main_category           object\n",
       "currency                object\n",
       "fund_deadline           object\n",
       "goal_amount            float64\n",
       "pledged_amount         float64\n",
       "project_state           object\n",
       "backers                  int64\n",
       "country                 object\n",
       "usd_pledged_amount     float64\n",
       "project_launch_date     object\n",
       "project_launch_time     object\n",
       "project_launch_year     object\n",
       "dtype: object"
      ]
     },
     "execution_count": 6,
     "metadata": {},
     "output_type": "execute_result"
    }
   ],
   "source": [
    "#checking the data types of all the columns\n",
    "kickstarter_df_renamed.dtypes"
   ]
  },
  {
   "cell_type": "markdown",
   "metadata": {},
   "source": [
    "\n",
    "* The project_launch_year is of object data type which has to be converted to int type, and the project_launch_time and project_launch_date columns have to converted to timestamps"
   ]
  },
  {
   "cell_type": "code",
   "execution_count": 7,
   "metadata": {},
   "outputs": [
    {
     "data": {
      "text/plain": [
       "id                              int64\n",
       "name                           object\n",
       "sub_category                   object\n",
       "main_category                  object\n",
       "currency                       object\n",
       "fund_deadline                  object\n",
       "goal_amount                   float64\n",
       "pledged_amount                float64\n",
       "project_state                  object\n",
       "backers                         int64\n",
       "country                        object\n",
       "usd_pledged_amount            float64\n",
       "project_launch_date    datetime64[ns]\n",
       "project_launch_time    datetime64[ns]\n",
       "project_launch_year             int64\n",
       "dtype: object"
      ]
     },
     "execution_count": 7,
     "metadata": {},
     "output_type": "execute_result"
    }
   ],
   "source": [
    "#changing the project_launch_year col data type from object to int type\n",
    "kickstarter_df_renamed['project_launch_year'] = kickstarter_df_renamed.project_launch_year.astype(int)\n",
    "kickstarter_df_renamed.dtypes\n",
    "\n",
    "#changing the project_launch_date and project_launch_time cols data type from object to int datetime stamp\n",
    "kickstarter_df_renamed['project_launch_date'] = pd.to_datetime(kickstarter_df_renamed['project_launch_date'])\n",
    "kickstarter_df_renamed['project_launch_time'] = pd.to_datetime(kickstarter_df_renamed['project_launch_time'])\n",
    "kickstarter_df_renamed.dtypes"
   ]
  },
  {
   "cell_type": "markdown",
   "metadata": {},
   "source": [
    "* Pandas **describe()** is used to view some basic statistical details like percentile, mean, std etc. of a data frame or a series of numeric values.\n"
   ]
  },
  {
   "cell_type": "code",
   "execution_count": 8,
   "metadata": {},
   "outputs": [
    {
     "data": {
      "text/html": [
       "<div>\n",
       "<style scoped>\n",
       "    .dataframe tbody tr th:only-of-type {\n",
       "        vertical-align: middle;\n",
       "    }\n",
       "\n",
       "    .dataframe tbody tr th {\n",
       "        vertical-align: top;\n",
       "    }\n",
       "\n",
       "    .dataframe thead th {\n",
       "        text-align: right;\n",
       "    }\n",
       "</style>\n",
       "<table border=\"1\" class=\"dataframe\">\n",
       "  <thead>\n",
       "    <tr style=\"text-align: right;\">\n",
       "      <th></th>\n",
       "      <th>ID</th>\n",
       "      <th>goal</th>\n",
       "      <th>pledged</th>\n",
       "      <th>backers</th>\n",
       "      <th>usd pledged</th>\n",
       "    </tr>\n",
       "  </thead>\n",
       "  <tbody>\n",
       "    <tr>\n",
       "      <th>count</th>\n",
       "      <td>6.549900e+04</td>\n",
       "      <td>6.549900e+04</td>\n",
       "      <td>6.549900e+04</td>\n",
       "      <td>65499.000000</td>\n",
       "      <td>6.486800e+04</td>\n",
       "    </tr>\n",
       "    <tr>\n",
       "      <th>mean</th>\n",
       "      <td>1.060407e+09</td>\n",
       "      <td>4.440623e+04</td>\n",
       "      <td>9.873487e+03</td>\n",
       "      <td>104.771722</td>\n",
       "      <td>7.155397e+03</td>\n",
       "    </tr>\n",
       "    <tr>\n",
       "      <th>std</th>\n",
       "      <td>3.310529e+08</td>\n",
       "      <td>1.033405e+06</td>\n",
       "      <td>8.804701e+04</td>\n",
       "      <td>798.264194</td>\n",
       "      <td>7.095684e+04</td>\n",
       "    </tr>\n",
       "    <tr>\n",
       "      <th>min</th>\n",
       "      <td>1.061440e+05</td>\n",
       "      <td>1.000000e+00</td>\n",
       "      <td>0.000000e+00</td>\n",
       "      <td>0.000000</td>\n",
       "      <td>0.000000e+00</td>\n",
       "    </tr>\n",
       "    <tr>\n",
       "      <th>25%</th>\n",
       "      <td>1.054676e+09</td>\n",
       "      <td>2.000000e+03</td>\n",
       "      <td>3.100000e+01</td>\n",
       "      <td>2.000000</td>\n",
       "      <td>2.000000e+01</td>\n",
       "    </tr>\n",
       "    <tr>\n",
       "      <th>50%</th>\n",
       "      <td>1.147808e+09</td>\n",
       "      <td>5.150000e+03</td>\n",
       "      <td>6.320000e+02</td>\n",
       "      <td>12.000000</td>\n",
       "      <td>4.010000e+02</td>\n",
       "    </tr>\n",
       "    <tr>\n",
       "      <th>75%</th>\n",
       "      <td>1.240741e+09</td>\n",
       "      <td>1.596250e+04</td>\n",
       "      <td>4.100000e+03</td>\n",
       "      <td>57.000000</td>\n",
       "      <td>3.050000e+03</td>\n",
       "    </tr>\n",
       "    <tr>\n",
       "      <th>max</th>\n",
       "      <td>1.333161e+09</td>\n",
       "      <td>1.000000e+08</td>\n",
       "      <td>8.596475e+06</td>\n",
       "      <td>85581.000000</td>\n",
       "      <td>8.596475e+06</td>\n",
       "    </tr>\n",
       "  </tbody>\n",
       "</table>\n",
       "</div>"
      ],
      "text/plain": [
       "                 ID          goal       pledged       backers   usd pledged\n",
       "count  6.549900e+04  6.549900e+04  6.549900e+04  65499.000000  6.486800e+04\n",
       "mean   1.060407e+09  4.440623e+04  9.873487e+03    104.771722  7.155397e+03\n",
       "std    3.310529e+08  1.033405e+06  8.804701e+04    798.264194  7.095684e+04\n",
       "min    1.061440e+05  1.000000e+00  0.000000e+00      0.000000  0.000000e+00\n",
       "25%    1.054676e+09  2.000000e+03  3.100000e+01      2.000000  2.000000e+01\n",
       "50%    1.147808e+09  5.150000e+03  6.320000e+02     12.000000  4.010000e+02\n",
       "75%    1.240741e+09  1.596250e+04  4.100000e+03     57.000000  3.050000e+03\n",
       "max    1.333161e+09  1.000000e+08  8.596475e+06  85581.000000  8.596475e+06"
      ]
     },
     "execution_count": 8,
     "metadata": {},
     "output_type": "execute_result"
    }
   ],
   "source": [
    "kickstarter_df.describe()"
   ]
  },
  {
   "cell_type": "code",
   "execution_count": 9,
   "metadata": {},
   "outputs": [
    {
     "name": "stdout",
     "output_type": "stream",
     "text": [
      "<class 'pandas.core.frame.DataFrame'>\n",
      "RangeIndex: 65499 entries, 0 to 65498\n",
      "Data columns (total 15 columns):\n",
      "id                     65499 non-null int64\n",
      "name                   65499 non-null object\n",
      "sub_category           65499 non-null object\n",
      "main_category          65499 non-null object\n",
      "currency               65499 non-null object\n",
      "fund_deadline          65499 non-null object\n",
      "goal_amount            65499 non-null float64\n",
      "pledged_amount         65499 non-null float64\n",
      "project_state          65499 non-null object\n",
      "backers                65499 non-null int64\n",
      "country                65499 non-null object\n",
      "usd_pledged_amount     64868 non-null float64\n",
      "project_launch_date    65499 non-null datetime64[ns]\n",
      "project_launch_time    65499 non-null datetime64[ns]\n",
      "project_launch_year    65499 non-null int64\n",
      "dtypes: datetime64[ns](2), float64(3), int64(3), object(7)\n",
      "memory usage: 7.5+ MB\n"
     ]
    }
   ],
   "source": [
    "#information of the data set\n",
    "kickstarter_df_renamed.info()"
   ]
  },
  {
   "cell_type": "markdown",
   "metadata": {},
   "source": [
    "* Check for null values and replace them with 0"
   ]
  },
  {
   "cell_type": "code",
   "execution_count": 10,
   "metadata": {},
   "outputs": [
    {
     "name": "stdout",
     "output_type": "stream",
     "text": [
      "id                       0\n",
      "name                     0\n",
      "sub_category             0\n",
      "main_category            0\n",
      "currency                 0\n",
      "fund_deadline            0\n",
      "goal_amount              0\n",
      "pledged_amount           0\n",
      "project_state            0\n",
      "backers                  0\n",
      "country                  0\n",
      "usd_pledged_amount     631\n",
      "project_launch_date      0\n",
      "project_launch_time      0\n",
      "project_launch_year      0\n",
      "dtype: int64\n"
     ]
    }
   ],
   "source": [
    "#findind null values in the dataframe\n",
    "print(kickstarter_df_renamed.isnull().sum())"
   ]
  },
  {
   "cell_type": "code",
   "execution_count": 11,
   "metadata": {},
   "outputs": [
    {
     "name": "stdout",
     "output_type": "stream",
     "text": [
      "id                     0\n",
      "name                   0\n",
      "sub_category           0\n",
      "main_category          0\n",
      "currency               0\n",
      "fund_deadline          0\n",
      "goal_amount            0\n",
      "pledged_amount         0\n",
      "project_state          0\n",
      "backers                0\n",
      "country                0\n",
      "usd_pledged_amount     0\n",
      "project_launch_date    0\n",
      "project_launch_time    0\n",
      "project_launch_year    0\n",
      "dtype: int64\n"
     ]
    }
   ],
   "source": [
    "#replacing null values with 0\n",
    "kickstarter_df_renamed.fillna(0, inplace=True)\n",
    "print(kickstarter_df_renamed.isnull().sum())"
   ]
  },
  {
   "cell_type": "markdown",
   "metadata": {},
   "source": [
    "## Data visualization"
   ]
  },
  {
   "cell_type": "code",
   "execution_count": 12,
   "metadata": {
    "scrolled": true
   },
   "outputs": [
    {
     "data": {
      "text/html": [
       "<div>\n",
       "<style scoped>\n",
       "    .dataframe tbody tr th:only-of-type {\n",
       "        vertical-align: middle;\n",
       "    }\n",
       "\n",
       "    .dataframe tbody tr th {\n",
       "        vertical-align: top;\n",
       "    }\n",
       "\n",
       "    .dataframe thead th {\n",
       "        text-align: right;\n",
       "    }\n",
       "</style>\n",
       "<table border=\"1\" class=\"dataframe\">\n",
       "  <thead>\n",
       "    <tr style=\"text-align: right;\">\n",
       "      <th></th>\n",
       "      <th>main_category</th>\n",
       "      <th>count</th>\n",
       "    </tr>\n",
       "  </thead>\n",
       "  <tbody>\n",
       "    <tr>\n",
       "      <th>0</th>\n",
       "      <td>Film &amp; Video</td>\n",
       "      <td>10970</td>\n",
       "    </tr>\n",
       "    <tr>\n",
       "      <th>1</th>\n",
       "      <td>Music</td>\n",
       "      <td>8964</td>\n",
       "    </tr>\n",
       "    <tr>\n",
       "      <th>2</th>\n",
       "      <td>Publishing</td>\n",
       "      <td>6878</td>\n",
       "    </tr>\n",
       "    <tr>\n",
       "      <th>3</th>\n",
       "      <td>Games</td>\n",
       "      <td>6177</td>\n",
       "    </tr>\n",
       "    <tr>\n",
       "      <th>4</th>\n",
       "      <td>Technology</td>\n",
       "      <td>5656</td>\n",
       "    </tr>\n",
       "  </tbody>\n",
       "</table>\n",
       "</div>"
      ],
      "text/plain": [
       "  main_category  count\n",
       "0  Film & Video  10970\n",
       "1         Music   8964\n",
       "2    Publishing   6878\n",
       "3         Games   6177\n",
       "4    Technology   5656"
      ]
     },
     "execution_count": 12,
     "metadata": {},
     "output_type": "execute_result"
    }
   ],
   "source": [
    "#count of main_category\n",
    "main_category_count=pd.DataFrame(kickstarter_df_renamed.main_category.value_counts())\n",
    "\n",
    "\n",
    "\n",
    "#resetting the indexes \n",
    "test = kickstarter_df_renamed.groupby('main_category').count()\n",
    "main_category_df =pd.DataFrame(main_category_count.reset_index())\n",
    "main_category_df.head()\n",
    "\n",
    "#renaming column names of main_category_df\n",
    "main_category_dataframe=main_category_df.rename(columns={'index':'main_category',\n",
    "                               'main_category':'count'})\n",
    "#print the head of main_category_dataframe\n",
    "main_category_dataframe.head(5)\n"
   ]
  },
  {
   "cell_type": "markdown",
   "metadata": {},
   "source": [
    "### Bar plot representing the main categories of kickstarter projects"
   ]
  },
  {
   "cell_type": "code",
   "execution_count": 13,
   "metadata": {},
   "outputs": [
    {
     "data": {
      "image/png": "[encoded data removed]",
      "text/plain": [
       "<Figure size 600x400 with 1 Axes>"
      ]
     },
     "metadata": {},
     "output_type": "display_data"
    }
   ],
   "source": [
    "\n",
    "sns.set_style('darkgrid')\n",
    "mains=kickstarter_df_renamed.main_category.value_counts()\n",
    "x = mains.values\n",
    "y = mains.index\n",
    "\n",
    "fig = plt.figure(dpi=100)\n",
    "ax = fig.add_subplot(111)\n",
    "ax = sns.barplot(y=y, x=x, orient='h', palette=\"hls\", alpha=0.8)\n",
    "\n",
    "plt.title('Main categories in Kickstarter')\n",
    "plt.show()\n",
    "\n"
   ]
  },
  {
   "cell_type": "markdown",
   "metadata": {},
   "source": [
    "### Bar plot representing the top 10 main categories of kickstarter projects"
   ]
  },
  {
   "cell_type": "code",
   "execution_count": 14,
   "metadata": {},
   "outputs": [
    {
     "data": {
      "image/png": "[encoded data removed]",
      "text/plain": [
       "<Figure size 600x400 with 1 Axes>"
      ]
     },
     "metadata": {},
     "output_type": "display_data"
    }
   ],
   "source": [
    "sns.set_style('darkgrid')\n",
    "mains=kickstarter_df_renamed.main_category.value_counts().head(10)\n",
    "x = mains.values\n",
    "y = mains.index\n",
    "\n",
    "fig = plt.figure(dpi=100)\n",
    "ax = fig.add_subplot(111)\n",
    "ax = sns.barplot(x=x, y=y,palette=\"hls\", alpha=0.8)\n",
    "\n",
    "plt.title('Top 10 Main categories in Kickstarter')\n",
    "plt.show()\n"
   ]
  },
  {
   "cell_type": "markdown",
   "metadata": {},
   "source": [
    "### Plot representing the project state based on category"
   ]
  },
  {
   "cell_type": "code",
   "execution_count": 15,
   "metadata": {},
   "outputs": [
    {
     "data": {
      "text/plain": [
       "<matplotlib.axes._subplots.AxesSubplot at 0x104d0c048>"
      ]
     },
     "execution_count": 15,
     "metadata": {},
     "output_type": "execute_result"
    },
    {
     "data": {
      "image/png": "[encoded data removed]",
      "text/plain": [
       "<Figure size 432x288 with 1 Axes>"
      ]
     },
     "metadata": {},
     "output_type": "display_data"
    }
   ],
   "source": [
    "sns.countplot(x='project_state',hue='main_category',data=kickstarter_df_renamed)"
   ]
  },
  {
   "cell_type": "code",
   "execution_count": 16,
   "metadata": {},
   "outputs": [
    {
     "data": {
      "text/html": [
       "<div>\n",
       "<style scoped>\n",
       "    .dataframe tbody tr th:only-of-type {\n",
       "        vertical-align: middle;\n",
       "    }\n",
       "\n",
       "    .dataframe tbody tr th {\n",
       "        vertical-align: top;\n",
       "    }\n",
       "\n",
       "    .dataframe thead th {\n",
       "        text-align: right;\n",
       "    }\n",
       "</style>\n",
       "<table border=\"1\" class=\"dataframe\">\n",
       "  <thead>\n",
       "    <tr style=\"text-align: right;\">\n",
       "      <th></th>\n",
       "      <th>project_state</th>\n",
       "      <th>count</th>\n",
       "    </tr>\n",
       "  </thead>\n",
       "  <tbody>\n",
       "    <tr>\n",
       "      <th>0</th>\n",
       "      <td>failed</td>\n",
       "      <td>34137</td>\n",
       "    </tr>\n",
       "    <tr>\n",
       "      <th>1</th>\n",
       "      <td>successful</td>\n",
       "      <td>23391</td>\n",
       "    </tr>\n",
       "    <tr>\n",
       "      <th>2</th>\n",
       "      <td>canceled</td>\n",
       "      <td>6593</td>\n",
       "    </tr>\n",
       "    <tr>\n",
       "      <th>3</th>\n",
       "      <td>undefined</td>\n",
       "      <td>589</td>\n",
       "    </tr>\n",
       "    <tr>\n",
       "      <th>4</th>\n",
       "      <td>live</td>\n",
       "      <td>470</td>\n",
       "    </tr>\n",
       "  </tbody>\n",
       "</table>\n",
       "</div>"
      ],
      "text/plain": [
       "  project_state  count\n",
       "0        failed  34137\n",
       "1    successful  23391\n",
       "2      canceled   6593\n",
       "3     undefined    589\n",
       "4          live    470"
      ]
     },
     "execution_count": 16,
     "metadata": {},
     "output_type": "execute_result"
    }
   ],
   "source": [
    "#count the project_states\n",
    "project_state_count=pd.DataFrame(kickstarter_df_renamed.project_state.value_counts())\n",
    "project_state_count\n",
    "\n",
    "#resetting the indexes\n",
    "project_state_df =project_state_count.reset_index()\n",
    "project_state_df\n",
    "\n",
    "\n",
    "#renaming column names of project_state_df\n",
    "project_state_dataframe=project_state_df.rename(columns={'index':'project_state',\n",
    "                               'project_state':'count'})\n",
    "\n",
    "#print the head of project_state_dataframe\n",
    "project_state_dataframe.head()\n"
   ]
  },
  {
   "cell_type": "markdown",
   "metadata": {},
   "source": [
    "### Pie chart representing the different project states of Kickstarter \n",
    "\n",
    " * From the pie chart we can say that more than half of the projects have failed."
   ]
  },
  {
   "cell_type": "code",
   "execution_count": 17,
   "metadata": {},
   "outputs": [
    {
     "data": {
      "image/png": "[encoded data removed]",
      "text/plain": [
       "<Figure size 600x400 with 1 Axes>"
      ]
     },
     "metadata": {},
     "output_type": "display_data"
    }
   ],
   "source": [
    "plt.style.use('ggplot')\n",
    "\n",
    "fig, ax = plt.subplots(1, 1, dpi=100)\n",
    "explode = [0,0,.1,.2, .4]\n",
    "kickstarter_df_renamed.project_state.value_counts().head(5).plot.pie(autopct='%0.2f%%',\n",
    "                                        explode=explode)\n",
    "\n",
    "plt.title('Project status of kickstarter projects')\n",
    "plt.ylabel('')\n",
    "plt.show()"
   ]
  },
  {
   "cell_type": "markdown",
   "metadata": {},
   "source": [
    "### Result:\n",
    "#### Failed: 52.37%\n",
    "#### Successful: 35.89%\n",
    "#### Cancelled: 10.12%\n",
    "#### Undefined: 0.90%\n",
    "#### Live: 0.72%\n"
   ]
  },
  {
   "cell_type": "markdown",
   "metadata": {},
   "source": [
    "## Barplot representing the successful project every year"
   ]
  },
  {
   "cell_type": "code",
   "execution_count": 18,
   "metadata": {},
   "outputs": [
    {
     "data": {
      "text/plain": [
       "Text(0.5, 1.0, 'Successful project per year')"
      ]
     },
     "execution_count": 18,
     "metadata": {},
     "output_type": "execute_result"
    },
    {
     "data": {
      "image/png": "[encoded data removed]",
      "text/plain": [
       "<Figure size 432x288 with 1 Axes>"
      ]
     },
     "metadata": {},
     "output_type": "display_data"
    }
   ],
   "source": [
    "df=kickstarter_df_renamed.groupby(['project_launch_year','project_state']).size()\n",
    "success_rate=pd.DataFrame(df.loc[(df.index.get_level_values('project_state') == 'successful')])\n",
    "success_rate\n",
    "#resetting the indexes\n",
    "success_rate1=success_rate.reset_index()\n",
    "success_rate1\n",
    "#renaming column names of project_state_df\n",
    "success_per_year=success_rate1.rename(columns={'project_launch_year':'project_launch_year',\n",
    "                               'project_state':'project_state',0:'count'})\n",
    "\n",
    "#print the head of project_state_dataframe\n",
    "\n",
    "success_per_year.drop(columns=[\"project_state\"],inplace=True)\n",
    "success_per_year.head()\n",
    "\n",
    "sns.barplot(x='project_launch_year',y='count',data=success_per_year.head(10)).set_title('Successful project per year')"
   ]
  },
  {
   "cell_type": "markdown",
   "metadata": {},
   "source": [
    "### Result\n",
    "#### We can observe that from 2009 to 2014 there is a drastic change in the number of successful projects. 2014 has the highest number of successful projects. Also, after 2014 there is a slight decrease in this number."
   ]
  },
  {
   "cell_type": "markdown",
   "metadata": {},
   "source": [
    "## Barplot representing the failed project every year"
   ]
  },
  {
   "cell_type": "code",
   "execution_count": 19,
   "metadata": {},
   "outputs": [
    {
     "data": {
      "text/plain": [
       "Text(0.5, 1.0, 'Failed projects per year')"
      ]
     },
     "execution_count": 19,
     "metadata": {},
     "output_type": "execute_result"
    },
    {
     "data": {
      "image/png": "[encoded data removed]",
      "text/plain": [
       "<Figure size 432x288 with 1 Axes>"
      ]
     },
     "metadata": {},
     "output_type": "display_data"
    }
   ],
   "source": [
    "df1=kickstarter_df_renamed.groupby(['project_launch_year','project_state']).size()\n",
    "fail_rate=pd.DataFrame(df1.loc[(df1.index.get_level_values('project_state') == 'failed')])\n",
    "fail_rate\n",
    "#resetting the indexes\n",
    "fail_rate1=fail_rate.reset_index()\n",
    "fail_rate1\n",
    "#renaming column names of project_state_df\n",
    "fail_per_year=fail_rate1.rename(columns={'project_launch_year':'project_launch_year',\n",
    "                               'project_state':'project_state',0:'count'})\n",
    "\n",
    "#print the head of project_state_dataframe\n",
    "\n",
    "fail_per_year.drop(columns=[\"project_state\"],inplace=True)\n",
    "fail_per_year.head()\n",
    "\n",
    "sns.barplot(x='project_launch_year',y='count',data=fail_per_year).set_title('Failed projects per year')"
   ]
  },
  {
   "cell_type": "markdown",
   "metadata": {},
   "source": [
    "### Result\n",
    "#### On the other hand the number of failed projects has also increased but in comaprision to the successful projects, the change is not drastic."
   ]
  },
  {
   "cell_type": "markdown",
   "metadata": {},
   "source": [
    "### Barplot representing the projects by country"
   ]
  },
  {
   "cell_type": "code",
   "execution_count": 20,
   "metadata": {},
   "outputs": [
    {
     "data": {
      "text/plain": [
       "Text(0.5, 1.0, 'Projects by country')"
      ]
     },
     "execution_count": 20,
     "metadata": {},
     "output_type": "execute_result"
    },
    {
     "data": {
      "image/png": "[encoded data removed]",
      "text/plain": [
       "<Figure size 432x288 with 1 Axes>"
      ]
     },
     "metadata": {},
     "output_type": "display_data"
    }
   ],
   "source": [
    "#bar plot for the countries where kickstarter projects\n",
    "sns.countplot(x='country',data=kickstarter_df_renamed).set_title('Projects by country')\n"
   ]
  },
  {
   "cell_type": "markdown",
   "metadata": {},
   "source": [
    "### Result:\n",
    "#### The number of projects launched in the United States is very high when compared to other countries. As we can see,this number  is almost negligible for many countries."
   ]
  },
  {
   "cell_type": "markdown",
   "metadata": {},
   "source": [
    "### Box plot representing outliers of project state based on goal_amount"
   ]
  },
  {
   "cell_type": "code",
   "execution_count": 44,
   "metadata": {},
   "outputs": [
    {
     "data": {
      "text/plain": [
       "(0, 150000)"
      ]
     },
     "execution_count": 44,
     "metadata": {},
     "output_type": "execute_result"
    },
    {
     "data": {
      "image/png": "[encoded data removed]",
      "text/plain": [
       "<Figure size 432x288 with 1 Axes>"
      ]
     },
     "metadata": {},
     "output_type": "display_data"
    }
   ],
   "source": [
    "ax = sns.boxplot(x=\"project_state\", y=\"goal_amount\", data=kickstarter_df_renamed,\n",
    "                 order=[\"successful\", \"failed\"])\n",
    "\n",
    "plt.ylim([0,150000])\n"
   ]
  },
  {
   "cell_type": "markdown",
   "metadata": {},
   "source": [
    "### Result\n",
    "#### As we can observe the mean goal amount of successful projects is very low and for the failed projects the mean goal amount is higher than that of successful projects. We can predict that if the goal amount is less then the project might be successful. \n",
    "#### Also we can see that there are many outilers for successful projects which means that the successful projects received funding more than the goal amount."
   ]
  },
  {
   "cell_type": "code",
   "execution_count": 45,
   "metadata": {},
   "outputs": [
    {
     "name": "stderr",
     "output_type": "stream",
     "text": [
      "/Users/kishore/anaconda3/lib/python3.7/site-packages/scipy/stats/stats.py:1713: FutureWarning: Using a non-tuple sequence for multidimensional indexing is deprecated; use `arr[tuple(seq)]` instead of `arr[seq]`. In the future this will be interpreted as an array index, `arr[np.array(seq)]`, which will result either in an error or a different result.\n",
      "  return np.add.reduce(sorted[indexer] * weights, axis=axis) / sumval\n"
     ]
    },
    {
     "data": {
      "text/plain": [
       "Text(0.5, 1.0, 'Distribution of projects by year')"
      ]
     },
     "execution_count": 45,
     "metadata": {},
     "output_type": "execute_result"
    },
    {
     "data": {
      "image/png": "[encoded data removed]",
      "text/plain": [
       "<Figure size 432x288 with 1 Axes>"
      ]
     },
     "metadata": {},
     "output_type": "display_data"
    }
   ],
   "source": [
    "# seaborn histogram\n",
    "sns.distplot(kickstarter_df_renamed['project_launch_year'], hist=True, kde=False, \n",
    "              color = 'blue',\n",
    "             hist_kws={'edgecolor':'black'}).set_title(\"Distribution of projects by year\")\n"
   ]
  },
  {
   "cell_type": "markdown",
   "metadata": {},
   "source": [
    "### Distribution of goal amount of kickstarter projects"
   ]
  },
  {
   "cell_type": "code",
   "execution_count": 46,
   "metadata": {},
   "outputs": [
    {
     "data": {
      "image/png": "[encoded data removed]",
      "text/plain": [
       "<Figure size 432x288 with 1 Axes>"
      ]
     },
     "metadata": {},
     "output_type": "display_data"
    }
   ],
   "source": [
    "fig, ax = plt.subplots(1, 1)\n",
    "\n",
    "g = sns.distplot(np.log10(kickstarter_df_renamed.goal_amount), kde=False, bins=30)\n",
    "\n",
    "plt.xlabel('Log Goal')\n",
    "plt.title('Distribution of Goal Amount')\n",
    "plt.show()"
   ]
  },
  {
   "cell_type": "code",
   "execution_count": 47,
   "metadata": {},
   "outputs": [
    {
     "data": {
      "image/png": "[encoded data removed]",
      "text/plain": [
       "<Figure size 432x288 with 2 Axes>"
      ]
     },
     "metadata": {},
     "output_type": "display_data"
    }
   ],
   "source": [
    "\n",
    "\n",
    "sns.heatmap(kickstarter_df_renamed.corr(), cmap='Blues')\n",
    "\n",
    "plt.title('Heatmap of Kickstarter Feature Correlations')\n",
    "plt.show()"
   ]
  },
  {
   "cell_type": "code",
   "execution_count": 58,
   "metadata": {},
   "outputs": [],
   "source": [
    "#selecting observations with project state as successful and failure\n",
    "success=pd.DataFrame(kickstarter_df_renamed[kickstarter_df_renamed['project_state'] == 'successful'])\n",
    "                                    \n",
    "failure=pd.DataFrame(kickstarter_df_renamed[kickstarter_df_renamed['project_state'] == 'failed'])\n",
    "frames=[success,failure]\n",
    "feature_variable=pd.concat(frames)"
   ]
  },
  {
   "cell_type": "code",
   "execution_count": 59,
   "metadata": {},
   "outputs": [
    {
     "data": {
      "text/plain": [
       "(57528, 15)"
      ]
     },
     "execution_count": 59,
     "metadata": {},
     "output_type": "execute_result"
    }
   ],
   "source": [
    "\n",
    "feature_variable.shape"
   ]
  },
  {
   "cell_type": "code",
   "execution_count": 67,
   "metadata": {},
   "outputs": [
    {
     "data": {
      "text/plain": [
       "(57528, 4)"
      ]
     },
     "execution_count": 67,
     "metadata": {},
     "output_type": "execute_result"
    }
   ],
   "source": [
    "#selecting the required features for training data set\n",
    "feature_variable_train=feature_variable.loc[:,('project_launch_year','goal_amount','usd_pledged_amount','backers')]\n",
    "feature_variable_train.head()\n",
    "#feature variable for training data\n",
    "feature_variable_train.shape\n"
   ]
  },
  {
   "cell_type": "code",
   "execution_count": 68,
   "metadata": {},
   "outputs": [
    {
     "data": {
      "text/plain": [
       "(57528, 1)"
      ]
     },
     "execution_count": 68,
     "metadata": {},
     "output_type": "execute_result"
    }
   ],
   "source": [
    "target_train=pd.DataFrame(feature_variable.loc[:,'project_state'])\n",
    "target_train.head()\n",
    "\n",
    "#target variable for training data\n",
    "target_train.shape"
   ]
  },
  {
   "cell_type": "code",
   "execution_count": 69,
   "metadata": {},
   "outputs": [
    {
     "data": {
      "text/plain": [
       "(470, 4)"
      ]
     },
     "execution_count": 69,
     "metadata": {},
     "output_type": "execute_result"
    }
   ],
   "source": [
    "#selecting observations with project state as live\n",
    "live=pd.DataFrame(kickstarter_df_renamed[kickstarter_df_renamed['project_state'] == 'live'])\n",
    "live.shape\n",
    "#selecting the required features for testing data set\n",
    "feature_variable_live=live.loc[:,('project_launch_year','goal_amount','usd_pledged_amount','backers')]\n",
    "feature_variable_live.shape\n",
    "\n"
   ]
  },
  {
   "cell_type": "code",
   "execution_count": 70,
   "metadata": {},
   "outputs": [
    {
     "data": {
      "text/plain": [
       "(470, 1)"
      ]
     },
     "execution_count": 70,
     "metadata": {},
     "output_type": "execute_result"
    }
   ],
   "source": [
    "target_test=pd.DataFrame(live.loc[:,'project_state'])\n",
    "target_test.shape\n",
    "\n"
   ]
  },
  {
   "cell_type": "markdown",
   "metadata": {},
   "source": [
    "### Predictive Analysis( KNN Classification Algorithm)\n",
    "* Supervised learning as the name indicates a presence of supervisor. Basically supervised learning is a learning in which we teach or train the machine using data which is well labelled that means some data is already tagged with correct answer. After that, machine is provided with new set of examples(data) so that supervised learning algorithm analyses the training data(set of training examples) and produces correct outcome from labelled data."
   ]
  },
  {
   "cell_type": "code",
   "execution_count": 71,
   "metadata": {},
   "outputs": [
    {
     "name": "stderr",
     "output_type": "stream",
     "text": [
      "/Users/kishore/anaconda3/lib/python3.7/site-packages/ipykernel_launcher.py:8: DataConversionWarning: A column-vector y was passed when a 1d array was expected. Please change the shape of y to (n_samples, ), for example using ravel().\n",
      "  \n"
     ]
    },
    {
     "name": "stdout",
     "output_type": "stream",
     "text": [
      "Prediction: ['failed' 'failed' 'failed' 'failed' 'failed' 'failed' 'failed' 'failed'\n",
      " 'failed' 'failed' 'failed' 'failed' 'failed' 'failed' 'failed'\n",
      " 'successful' 'failed' 'failed' 'failed' 'failed' 'failed' 'failed'\n",
      " 'failed' 'failed' 'failed' 'failed' 'failed' 'failed' 'failed'\n",
      " 'successful' 'failed' 'failed' 'failed' 'failed' 'failed' 'failed'\n",
      " 'failed' 'failed' 'failed' 'failed' 'failed' 'failed' 'failed' 'failed'\n",
      " 'failed' 'failed' 'failed' 'failed' 'failed' 'failed' 'failed' 'failed'\n",
      " 'failed' 'failed' 'failed' 'failed' 'failed' 'failed' 'failed' 'failed'\n",
      " 'failed' 'failed' 'failed' 'failed' 'failed' 'failed' 'failed' 'failed'\n",
      " 'failed' 'successful' 'failed' 'failed' 'failed' 'failed' 'failed'\n",
      " 'failed' 'failed' 'successful' 'failed' 'failed' 'failed' 'failed'\n",
      " 'successful' 'failed' 'failed' 'successful' 'failed' 'failed' 'failed'\n",
      " 'failed' 'failed' 'failed' 'failed' 'successful' 'failed' 'failed'\n",
      " 'failed' 'failed' 'failed' 'failed' 'failed' 'failed' 'failed' 'failed'\n",
      " 'failed' 'failed' 'failed' 'successful' 'failed' 'failed' 'failed'\n",
      " 'failed' 'failed' 'failed' 'failed' 'failed' 'failed' 'failed'\n",
      " 'successful' 'failed' 'failed' 'failed' 'failed' 'failed' 'failed'\n",
      " 'successful' 'failed' 'failed' 'failed' 'failed' 'failed' 'failed'\n",
      " 'failed' 'failed' 'failed' 'successful' 'failed' 'failed' 'failed'\n",
      " 'failed' 'successful' 'failed' 'failed' 'failed' 'failed' 'failed'\n",
      " 'failed' 'failed' 'failed' 'failed' 'failed' 'failed' 'failed' 'failed'\n",
      " 'failed' 'failed' 'failed' 'failed' 'failed' 'failed' 'failed' 'failed'\n",
      " 'failed' 'failed' 'failed' 'failed' 'failed' 'failed' 'successful'\n",
      " 'failed' 'failed' 'failed' 'failed' 'failed' 'failed' 'failed' 'failed'\n",
      " 'failed' 'failed' 'failed' 'failed' 'failed' 'failed' 'failed' 'failed'\n",
      " 'failed' 'failed' 'failed' 'successful' 'failed' 'failed' 'failed'\n",
      " 'failed' 'successful' 'failed' 'failed' 'failed' 'failed' 'failed'\n",
      " 'failed' 'failed' 'failed' 'failed' 'failed' 'failed' 'failed'\n",
      " 'successful' 'failed' 'failed' 'failed' 'successful' 'failed' 'failed'\n",
      " 'failed' 'failed' 'failed' 'failed' 'failed' 'failed' 'failed' 'failed'\n",
      " 'failed' 'failed' 'failed' 'failed' 'failed' 'successful' 'failed'\n",
      " 'failed' 'failed' 'failed' 'failed' 'failed' 'successful' 'failed'\n",
      " 'failed' 'failed' 'failed' 'failed' 'failed' 'failed' 'failed'\n",
      " 'successful' 'failed' 'failed' 'successful' 'failed' 'failed' 'failed'\n",
      " 'failed' 'failed' 'failed' 'failed' 'failed' 'failed' 'failed' 'failed'\n",
      " 'failed' 'failed' 'failed' 'failed' 'failed' 'failed' 'failed' 'failed'\n",
      " 'failed' 'failed' 'failed' 'failed' 'failed' 'failed' 'failed' 'failed'\n",
      " 'failed' 'failed' 'successful' 'failed' 'failed' 'failed' 'failed'\n",
      " 'failed' 'failed' 'successful' 'failed' 'failed' 'failed' 'failed'\n",
      " 'failed' 'failed' 'failed' 'failed' 'failed' 'successful' 'failed'\n",
      " 'failed' 'failed' 'failed' 'failed' 'failed' 'failed' 'failed' 'failed'\n",
      " 'failed' 'failed' 'failed' 'failed' 'failed' 'successful' 'failed'\n",
      " 'failed' 'failed' 'failed' 'failed' 'failed' 'failed' 'failed' 'failed'\n",
      " 'failed' 'failed' 'failed' 'failed' 'failed' 'failed' 'failed' 'failed'\n",
      " 'successful' 'failed' 'failed' 'failed' 'failed' 'failed' 'failed'\n",
      " 'failed' 'failed' 'failed' 'failed' 'failed' 'failed' 'failed' 'failed'\n",
      " 'successful' 'failed' 'failed' 'failed' 'failed' 'failed' 'failed'\n",
      " 'failed' 'successful' 'failed' 'failed' 'failed' 'failed' 'failed'\n",
      " 'failed' 'failed' 'failed' 'failed' 'failed' 'failed' 'failed' 'failed'\n",
      " 'failed' 'failed' 'failed' 'successful' 'failed' 'failed' 'failed'\n",
      " 'failed' 'failed' 'failed' 'failed' 'failed' 'successful' 'failed'\n",
      " 'failed' 'failed' 'failed' 'failed' 'failed' 'failed' 'failed' 'failed'\n",
      " 'failed' 'failed' 'failed' 'failed' 'failed' 'failed' 'failed' 'failed'\n",
      " 'failed' 'failed' 'failed' 'failed' 'failed' 'failed' 'failed' 'failed'\n",
      " 'failed' 'failed' 'failed' 'failed' 'failed' 'failed' 'failed' 'failed'\n",
      " 'failed' 'failed' 'failed' 'failed' 'failed' 'failed' 'failed' 'failed'\n",
      " 'failed' 'failed' 'failed' 'failed' 'failed' 'failed' 'failed' 'failed'\n",
      " 'failed' 'failed' 'failed' 'failed' 'failed' 'failed' 'failed' 'failed'\n",
      " 'failed' 'failed' 'failed' 'failed' 'failed' 'failed' 'failed' 'failed'\n",
      " 'failed' 'failed' 'failed' 'failed' 'failed' 'successful' 'failed'\n",
      " 'failed' 'failed' 'successful' 'failed' 'failed' 'failed' 'failed'\n",
      " 'failed' 'failed' 'failed' 'failed' 'failed' 'failed' 'failed' 'failed'\n",
      " 'failed' 'failed' 'failed' 'failed' 'failed' 'failed' 'failed' 'failed']\n"
     ]
    },
    {
     "data": {
      "text/plain": [
       "(470,)"
      ]
     },
     "execution_count": 71,
     "metadata": {},
     "output_type": "execute_result"
    }
   ],
   "source": [
    "\n",
    "# Import KNeighborsClassifier from sklearn.neighbors\n",
    "from sklearn.neighbors import KNeighborsClassifier\n",
    "\n",
    "X=feature_variable_train.values\n",
    "y=target_train.values\n",
    "knn =  KNeighborsClassifier(n_neighbors=120)\n",
    "knn.fit(X,y)\n",
    "\n",
    "\n",
    "\n",
    "# Predict the labels for the training data X\n",
    "test_data_prediction = knn.predict(X)\n",
    "\n",
    "# Predict and print the label for the new data point X_new\n",
    "new_prediction = knn.predict(feature_variable_live)\n",
    "print(\"Prediction: {}\".format(new_prediction))\n",
    "\n",
    "new_prediction.shape"
   ]
  },
  {
   "cell_type": "code",
   "execution_count": 72,
   "metadata": {},
   "outputs": [
    {
     "name": "stderr",
     "output_type": "stream",
     "text": [
      "/Users/kishore/anaconda3/lib/python3.7/site-packages/ipykernel_launcher.py:14: DataConversionWarning: A column-vector y was passed when a 1d array was expected. Please change the shape of y to (n_samples, ), for example using ravel().\n",
      "  \n"
     ]
    },
    {
     "name": "stdout",
     "output_type": "stream",
     "text": [
      "0.9422909786198506\n"
     ]
    }
   ],
   "source": [
    "# Import necessary modules\n",
    "from sklearn.metrics import classification_report\n",
    "from sklearn.metrics import confusion_matrix \n",
    "from sklearn.neighbors import KNeighborsClassifier \n",
    "from sklearn.model_selection import train_test_split\n",
    "# Create training and test set\n",
    "\n",
    "# create live projects data\n",
    "\n",
    "X_train,X_test,y_train,y_test=train_test_split(X,y,test_size=0.4,random_state=42)\n",
    "# Instantiate a k-NN classifier: knn\n",
    "knn =  KNeighborsClassifier(n_neighbors=6)\n",
    "# Fit the classifier to the training data\n",
    "knn.fit(X_train,y_train)\n",
    "\n",
    "\n",
    "# Predict the labels of the test data: y_pred\n",
    "test_prediction = knn.predict(X_test)\n",
    "\n",
    "\n",
    "print(knn.score(X_test, y_test))\n",
    "\n"
   ]
  },
  {
   "cell_type": "markdown",
   "metadata": {},
   "source": [
    "### Comparing two models\n",
    "* Along with the KNN Model, I also tested the accuracy with logistic regression\n",
    "\n"
   ]
  },
  {
   "cell_type": "code",
   "execution_count": 73,
   "metadata": {},
   "outputs": [
    {
     "name": "stderr",
     "output_type": "stream",
     "text": [
      "/Users/kishore/anaconda3/lib/python3.7/site-packages/sklearn/linear_model/logistic.py:433: FutureWarning: Default solver will be changed to 'lbfgs' in 0.22. Specify a solver to silence this warning.\n",
      "  FutureWarning)\n",
      "/Users/kishore/anaconda3/lib/python3.7/site-packages/sklearn/utils/validation.py:761: DataConversionWarning: A column-vector y was passed when a 1d array was expected. Please change the shape of y to (n_samples, ), for example using ravel().\n",
      "  y = column_or_1d(y, warn=True)\n",
      "/Users/kishore/anaconda3/lib/python3.7/site-packages/sklearn/linear_model/logistic.py:433: FutureWarning: Default solver will be changed to 'lbfgs' in 0.22. Specify a solver to silence this warning.\n",
      "  FutureWarning)\n",
      "/Users/kishore/anaconda3/lib/python3.7/site-packages/sklearn/utils/validation.py:761: DataConversionWarning: A column-vector y was passed when a 1d array was expected. Please change the shape of y to (n_samples, ), for example using ravel().\n",
      "  y = column_or_1d(y, warn=True)\n"
     ]
    },
    {
     "data": {
      "text/plain": [
       "0.8365200764818356"
      ]
     },
     "execution_count": 73,
     "metadata": {},
     "output_type": "execute_result"
    }
   ],
   "source": [
    "\n",
    "from sklearn.linear_model import LogisticRegression\n",
    "from sklearn.preprocessing import StandardScaler\n",
    "from sklearn.pipeline import Pipeline\n",
    "ss= StandardScaler()\n",
    "lr=LogisticRegression()\n",
    "lr_pipe=Pipeline((('scale',ss),('logreg',lr)))\n",
    "lr_pipe.fit(X,y)\n",
    "lr_pipe.score(X,y)\n",
    "\n",
    "X_train,X_test,y_train,y_test=train_test_split(X,y,test_size=0.4)\n",
    "lr_pipe.fit(X_train,y_train)\n",
    "lr_pipe.score(X_test,y_test)\n"
   ]
  },
  {
   "cell_type": "markdown",
   "metadata": {},
   "source": [
    "### Depending on the feature variables taken in this project we can see that KNN algorithm gives an accuracy of 92% where as Logistic regression gives on 80%"
   ]
  }
 ],
 "metadata": {
  "kernelspec": {
   "display_name": "Python 3",
   "language": "python",
   "name": "python3"
  },
  "language_info": {
   "codemirror_mode": {
    "name": "ipython",
    "version": 3
   },
   "file_extension": ".py",
   "mimetype": "text/x-python",
   "name": "python",
   "nbconvert_exporter": "python",
   "pygments_lexer": "ipython3",
   "version": "3.7.1"
  }
 },
 "nbformat": 4,
 "nbformat_minor": 2
}
